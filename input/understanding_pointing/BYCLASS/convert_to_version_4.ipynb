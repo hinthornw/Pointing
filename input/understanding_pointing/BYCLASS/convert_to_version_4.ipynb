{
 "cells": [
  {
   "cell_type": "markdown",
   "metadata": {},
   "source": [
    "Super sloppy code to conver the part indices from those used in the details-3.0.* api to that used in details-4.0.*. \n",
    "\n",
    "The new part indices are much more simplified, not differentiating between left and right sides of a train, merging all train car parts, etc. Plus the original dictionary had some erratic part attributes like giving the \"beak\" class to many of the other objects (just in the dictionary, not in the actual data, I believe)"
   ]
  },
  {
   "cell_type": "code",
   "execution_count": 87,
   "metadata": {
    "collapsed": true
   },
   "outputs": [],
   "source": [
    "import os\n",
    "import json"
   ]
  },
  {
   "cell_type": "code",
   "execution_count": 13,
   "metadata": {},
   "outputs": [],
   "source": [
    "def get_data_files():\n",
    "    fnames = []\n",
    "    cwd = os.getcwd()\n",
    "    thisdir = os.path.normpath(os.path.abspath(cwd))\n",
    "    for f in os.listdir(thisdir):\n",
    "        ftype = os.path.splitext(f)\n",
    "        if ftype[-1] != '.json':\n",
    "            continue\n",
    "        fnames.append(os.path.join(thisdir,f))\n",
    "    return fnames"
   ]
  },
  {
   "cell_type": "code",
   "execution_count": 14,
   "metadata": {},
   "outputs": [],
   "source": [
    "data_files = get_data_files()"
   ]
  },
  {
   "cell_type": "code",
   "execution_count": 18,
   "metadata": {
    "collapsed": true
   },
   "outputs": [],
   "source": [
    "_testf = data_files[0]"
   ]
  },
  {
   "cell_type": "code",
   "execution_count": 73,
   "metadata": {},
   "outputs": [],
   "source": [
    "with open('analytics_cache/v32v4dict.json', 'r') as f:\n",
    "    v32v4dict = json.load(f)\n",
    "    v32v4dict = {int(k): {int(k2): v for k2, v in vals.items()} for k, vals in v32v4dict.items()}\n",
    "    v32v4dict[113][113] = v32v4dict[113][190]"
   ]
  },
  {
   "cell_type": "code",
   "execution_count": 79,
   "metadata": {},
   "outputs": [
    {
     "data": {
      "text/plain": [
       "('thresholded_gt_BYNAME_bird_centered', '.json')"
      ]
     },
     "execution_count": 79,
     "metadata": {},
     "output_type": "execute_result"
    }
   ],
   "source": [
    "os.path.splitext(os.path.split(data_files[0])[-1])"
   ]
  },
  {
   "cell_type": "code",
   "execution_count": 81,
   "metadata": {},
   "outputs": [],
   "source": [
    "for data_file in data_files:\n",
    "    _testdat = []\n",
    "    with open(data_file, 'r') as f:\n",
    "        for l in f.readlines():\n",
    "            _testdat.append(json.loads(l.strip()))  \n",
    "    for HIT in _testdat:\n",
    "        for ques in HIT:\n",
    "            old_data = ques.values()[0]['points']['data']\n",
    "            keys = list(old_data)\n",
    "            ques.values()[0]['points']['data'] = {}\n",
    "            for key in keys:\n",
    "                # ... do stuff ...\n",
    "                keydat = [int(el) for el in key.split(\"_\")]\n",
    "                keydat[-1] = v32v4dict[int(keydat[0])][int(keydat[2])]\n",
    "                keydat= [str(el) for el in keydat]\n",
    "                newkey = \"_\".join(keydat)\n",
    "                ques.values()[0]['points']['data'][newkey] = old_data[key]\n",
    "    dirloc, fname = os.path.split(data_file)\n",
    "    _fname, ext = os.path.splitext(fname)\n",
    "    _fname += \"_v4\"\n",
    "    savename = os.path.join(dirloc, _fname+ext)\n",
    "    with open(savename, 'w+') as f:\n",
    "        for HIT in _testdat:\n",
    "            f.write(\"{}\\n\".format(json.dumps(HIT)))"
   ]
  }
 ],
 "metadata": {
  "kernelspec": {
   "display_name": "Python 2",
   "language": "python",
   "name": "python2"
  },
  "language_info": {
   "codemirror_mode": {
    "name": "ipython",
    "version": 2
   },
   "file_extension": ".py",
   "mimetype": "text/x-python",
   "name": "python",
   "nbconvert_exporter": "python",
   "pygments_lexer": "ipython2",
   "version": "2.7.13"
  },
  "toc": {
   "nav_menu": {},
   "number_sections": true,
   "sideBar": true,
   "skip_h1_title": false,
   "title_cell": "Table of Contents",
   "title_sidebar": "Contents",
   "toc_cell": false,
   "toc_position": {},
   "toc_section_display": true,
   "toc_window_display": false
  }
 },
 "nbformat": 4,
 "nbformat_minor": 2
}
